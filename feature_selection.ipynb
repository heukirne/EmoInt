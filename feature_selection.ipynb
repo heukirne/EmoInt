{
 "cells": [
  {
   "cell_type": "code",
   "execution_count": 35,
   "metadata": {
    "collapsed": false
   },
   "outputs": [
    {
     "data": {
      "text/plain": [
       "(857, 3)"
      ]
     },
     "execution_count": 35,
     "metadata": {},
     "output_type": "execute_result"
    }
   ],
   "source": [
    "import pandas as pd\n",
    "from liwc import LIWC\n",
    "from sklearn.feature_selection import f_regression, mutual_info_regression, SelectKBest\n",
    "\n",
    "columns = ['funct','pronoun','ppron','i','we','you','shehe','they','ipron','article','verb','auxverb','past','present','future','adverb','preps','conj','negate','quant','number','swear','social','family','friend','humans','affect','posemo','negemo','anx','anger','sad','cogmech','insight','cause','discrep','tentat','certain','inhib','incl','excl','percept','see','hear','feel','bio','body','health','sexual','ingest','relativ','motion','space','time','work','achieve','leisure','home','money','relig','death','assent','nonfl','filler']\n",
    "\n",
    "liwc_class = LIWC()"
   ]
  },
  {
   "cell_type": "code",
   "execution_count": 38,
   "metadata": {
    "collapsed": false
   },
   "outputs": [
    {
     "name": "stdout",
     "output_type": "stream",
     "text": [
      "\n",
      "## joy\n",
      "  - funct\n",
      "  - negate\n",
      "  - affect\n",
      "  - posemo\n",
      "  - negemo\n",
      "  - anger\n",
      "  - cogmech\n",
      "  - discrep\n",
      "  - tentat\n",
      "  - excl\n",
      "\n",
      "## anger\n",
      "  - auxverb\n",
      "  - present\n",
      "  - negate\n",
      "  - swear\n",
      "  - humans\n",
      "  - affect\n",
      "  - posemo\n",
      "  - negemo\n",
      "  - anger\n",
      "  - relativ\n",
      "\n",
      "## sadness\n",
      "  - i\n",
      "  - social\n",
      "  - affect\n",
      "  - posemo\n",
      "  - negemo\n",
      "  - anger\n",
      "  - sad\n",
      "  - see\n",
      "  - ingest\n",
      "  - leisure\n",
      "\n",
      "## fear\n",
      "  - affect\n",
      "  - posemo\n",
      "  - negemo\n",
      "  - anx\n",
      "  - anger\n",
      "  - sad\n",
      "  - feel\n",
      "  - ingest\n",
      "  - space\n",
      "  - death\n"
     ]
    }
   ],
   "source": [
    "for emotion in ['joy','anger','sadness','fear']:\n",
    "    \n",
    "    tweets_train = pd.read_csv('data/' + emotion + '-ratings-0to1.train.txt', sep='\\t', names=['id','tweet','emotion','score'], index_col='id')\n",
    "    tweets_dev = pd.read_csv('data/' + emotion + '-ratings-0to1.dev.gold.txt', sep='\\t', names=['id','tweet','emotion','score'], index_col='id')\n",
    "    tweets_train.append(tweets_dev)\n",
    "    tweets_gold = pd.read_csv('data/' + emotion + '-ratings-0to1.test.gold.txt', sep='\\t', names=['id','tweet','emotion','score'], index_col='id')\n",
    "    tweets_train.append(tweets_gold)\n",
    "    \n",
    "    labels = tweets_train.score\n",
    "    features = liwc_class.build_features(tweets_train.tweet)\n",
    "    \n",
    "    k_best = SelectKBest(f_regression, k=10) # mutual_info_regression non-deterministic\n",
    "    selection = k_best.fit(features,labels)\n",
    "    indicies_fs = selection.get_support(indices=True)\n",
    "\n",
    "    print(\"\\n## \" + emotion)    \n",
    "    for idx in indicies_fs:\n",
    "        print (\"  - \" + columns[idx])"
   ]
  },
  {
   "cell_type": "code",
   "execution_count": null,
   "metadata": {
    "collapsed": true
   },
   "outputs": [],
   "source": []
  }
 ],
 "metadata": {
  "kernelspec": {
   "display_name": "Python 3",
   "language": "python",
   "name": "python3"
  },
  "language_info": {
   "codemirror_mode": {
    "name": "ipython",
    "version": 3
   },
   "file_extension": ".py",
   "mimetype": "text/x-python",
   "name": "python",
   "nbconvert_exporter": "python",
   "pygments_lexer": "ipython3",
   "version": "3.5.2"
  }
 },
 "nbformat": 4,
 "nbformat_minor": 2
}
