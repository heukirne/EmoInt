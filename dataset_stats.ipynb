{
 "cells": [
  {
   "cell_type": "code",
   "execution_count": 1,
   "metadata": {
    "collapsed": true
   },
   "outputs": [],
   "source": [
    "import pandas as pd\n",
    "from liwc import LIWC\n",
    "\n",
    "liwc_class = LIWC()"
   ]
  },
  {
   "cell_type": "markdown",
   "metadata": {},
   "source": [
    "### emotion features stats"
   ]
  },
  {
   "cell_type": "code",
   "execution_count": 27,
   "metadata": {
    "collapsed": false
   },
   "outputs": [
    {
     "name": "stdout",
     "output_type": "stream",
     "text": [
      "joy, Train Set:  823\n",
      "joy, Train Dev:  79\n",
      "joy, Train Test:  714\n",
      "joy, Train All:  1616\n",
      "joy, posemo mean:  1.44349939247\n",
      "joy, negemo mean:  0.273390036452\n",
      "joy, anx mean:  0.0400972053463\n",
      "joy, anger mean:  0.117861482382\n",
      "joy, sad mean:  0.0607533414338\n",
      "anger, Train Set:  857\n",
      "anger, Train Dev:  84\n",
      "anger, Train Test:  760\n",
      "anger, Train All:  1701\n",
      "anger, posemo mean:  0.506417736289\n",
      "anger, negemo mean:  0.982497082847\n",
      "anger, anx mean:  0.0630105017503\n",
      "anger, anger mean:  0.745624270712\n",
      "anger, sad mean:  0.0886814469078\n",
      "sadness, Train Set:  786\n",
      "sadness, Train Dev:  74\n",
      "sadness, Train Test:  673\n",
      "sadness, Train All:  1533\n",
      "sadness, posemo mean:  0.58524173028\n",
      "sadness, negemo mean:  1.02290076336\n",
      "sadness, anx mean:  0.100508905852\n",
      "sadness, anger mean:  0.15903307888\n",
      "sadness, sad mean:  0.615776081425\n",
      "fear, Train Set:  1147\n",
      "fear, Train Dev:  110\n",
      "fear, Train Test:  995\n",
      "fear, Train All:  2252\n",
      "fear, posemo mean:  0.536181342633\n",
      "fear, negemo mean:  1.10462074978\n",
      "fear, anx mean:  0.587619877942\n",
      "fear, anger mean:  0.210985178727\n",
      "fear, sad mean:  0.0924149956408\n"
     ]
    }
   ],
   "source": [
    "emo_feats = ['posemo','negemo','anx','anger','sad']\n",
    "emotions = ['joy','anger','sadness','fear']\n",
    "stats = pd.DataFrame(columns=emo_feats)\n",
    "\n",
    "for emotion in emotions:\n",
    "    \n",
    "    tweets_train = pd.read_csv('data/'+emotion+'-ratings-0to1.train.txt', sep='\\t', names=['id','tweet','emotion','score'], index_col='id')\n",
    "    tweets_dev = pd.read_csv('data/'+emotion+'-ratings-0to1.dev.gold.txt', sep='\\t', names=['id','tweet','emotion','score'], index_col='id')\n",
    "    tweets_test = pd.read_csv('data/'+emotion+'-ratings-0to1.test.gold.txt', sep='\\t', names=['id','tweet','emotion','score'], index_col='id')\n",
    "    print (emotion + ', Train Set: ', len(tweets_train))\n",
    "    print (emotion + ', Train Dev: ', len(tweets_dev))\n",
    "    print (emotion + ', Train Test: ', len(tweets_test))\n",
    "    \n",
    "    tweets_all = tweets_train\n",
    "    tweets_all = tweets_all.append(tweets_dev)\n",
    "    tweets_all = tweets_all.append(tweets_test)\n",
    "    print (emotion + ', Train All: ', len(tweets_all)) \n",
    "    \n",
    "    features = liwc_class.build_features(tweets_train.tweet)\n",
    "    columns = ['funct','pronoun','ppron','i','we','you','shehe','they','ipron','article','verb','auxverb','past','present','future','adverb','preps','conj','negate','quant','number','swear','social','family','friend','humans','affect','posemo','negemo','anx','anger','sad','cogmech','insight','cause','discrep','tentat','certain','inhib','incl','excl','percept','see','hear','feel','bio','body','health','sexual','ingest','relativ','motion','space','time','work','achieve','leisure','home','money','relig','death','assent','nonfl','filler']\n",
    "    features_pd = pd.DataFrame(features, columns=columns)\n",
    "\n",
    "    mean_list = []\n",
    "    for feat in emo_feats:\n",
    "        print(emotion + ', '+feat+' mean: ', features_pd[feat].mean())\n",
    "        mean_list.append(features_pd[feat].mean())\n",
    "    stats = stats.append(pd.Series(mean_list, index=emo_feats), ignore_index=True)\n",
    "    "
   ]
  },
  {
   "cell_type": "code",
   "execution_count": 28,
   "metadata": {
    "collapsed": false
   },
   "outputs": [
    {
     "data": {
      "text/html": [
       "<div>\n",
       "<table border=\"1\" class=\"dataframe\">\n",
       "  <thead>\n",
       "    <tr style=\"text-align: right;\">\n",
       "      <th></th>\n",
       "      <th>posemo</th>\n",
       "      <th>negemo</th>\n",
       "      <th>anx</th>\n",
       "      <th>anger</th>\n",
       "      <th>sad</th>\n",
       "      <th>emotion</th>\n",
       "    </tr>\n",
       "  </thead>\n",
       "  <tbody>\n",
       "    <tr>\n",
       "      <th>0</th>\n",
       "      <td>1.443499</td>\n",
       "      <td>0.273390</td>\n",
       "      <td>0.040097</td>\n",
       "      <td>0.117861</td>\n",
       "      <td>0.060753</td>\n",
       "      <td>joy</td>\n",
       "    </tr>\n",
       "    <tr>\n",
       "      <th>1</th>\n",
       "      <td>0.506418</td>\n",
       "      <td>0.982497</td>\n",
       "      <td>0.063011</td>\n",
       "      <td>0.745624</td>\n",
       "      <td>0.088681</td>\n",
       "      <td>anger</td>\n",
       "    </tr>\n",
       "    <tr>\n",
       "      <th>2</th>\n",
       "      <td>0.585242</td>\n",
       "      <td>1.022901</td>\n",
       "      <td>0.100509</td>\n",
       "      <td>0.159033</td>\n",
       "      <td>0.615776</td>\n",
       "      <td>sadness</td>\n",
       "    </tr>\n",
       "    <tr>\n",
       "      <th>3</th>\n",
       "      <td>0.536181</td>\n",
       "      <td>1.104621</td>\n",
       "      <td>0.587620</td>\n",
       "      <td>0.210985</td>\n",
       "      <td>0.092415</td>\n",
       "      <td>fear</td>\n",
       "    </tr>\n",
       "  </tbody>\n",
       "</table>\n",
       "</div>"
      ],
      "text/plain": [
       "     posemo    negemo       anx     anger       sad  emotion\n",
       "0  1.443499  0.273390  0.040097  0.117861  0.060753      joy\n",
       "1  0.506418  0.982497  0.063011  0.745624  0.088681    anger\n",
       "2  0.585242  1.022901  0.100509  0.159033  0.615776  sadness\n",
       "3  0.536181  1.104621  0.587620  0.210985  0.092415     fear"
      ]
     },
     "execution_count": 28,
     "metadata": {},
     "output_type": "execute_result"
    }
   ],
   "source": [
    "stats['emotion'] = emotions\n",
    "stats"
   ]
  },
  {
   "cell_type": "code",
   "execution_count": null,
   "metadata": {
    "collapsed": true
   },
   "outputs": [],
   "source": []
  }
 ],
 "metadata": {
  "kernelspec": {
   "display_name": "Python 3",
   "language": "python",
   "name": "python3"
  },
  "language_info": {
   "codemirror_mode": {
    "name": "ipython",
    "version": 3
   },
   "file_extension": ".py",
   "mimetype": "text/x-python",
   "name": "python",
   "nbconvert_exporter": "python",
   "pygments_lexer": "ipython3",
   "version": "3.5.2"
  }
 },
 "nbformat": 4,
 "nbformat_minor": 2
}
