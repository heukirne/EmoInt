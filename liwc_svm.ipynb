{
 "cells": [
  {
   "cell_type": "code",
   "execution_count": 11,
   "metadata": {
    "collapsed": false,
    "deletable": true,
    "editable": true
   },
   "outputs": [],
   "source": [
    "import pandas as pd\n",
    "from liwc import LIWC\n",
    "from sklearn import svm\n",
    "from sklearn.svm import SVR, LinearSVR\n",
    "from sklearn.linear_model import LinearRegression\n",
    "from sklearn import grid_search\n",
    "from sklearn.grid_search import GridSearchCV\n",
    "from sklearn.feature_extraction.text import TfidfVectorizer\n",
    "from sklearn.svm import SVR\n",
    "from sklearn.model_selection import train_test_split, cross_val_score\n",
    "from scipy.stats import spearmanr\n",
    "import numpy as np\n",
    "from time import time\n",
    "\n",
    "tweets_train = pd.read_csv('data/anger-ratings-0to1.train.txt', sep='\\t', names=['id','tweet','emotion','score'], index_col='id')\n",
    "tweets_test = pd.read_csv('data/anger-ratings-0to1.dev.target.txt', sep='\\t', names=['id','tweet','emotion','score'], index_col='id')\n",
    "liwc_class = LIWC()"
   ]
  },
  {
   "cell_type": "code",
   "execution_count": 12,
   "metadata": {
    "collapsed": true,
    "deletable": true,
    "editable": true
   },
   "outputs": [],
   "source": [
    "from sklearn.metrics import make_scorer\n",
    "def simple_spearman(x,y): return spearmanr(x,y)[0]\n",
    "spearmanr_scorer = make_scorer(simple_spearman)"
   ]
  },
  {
   "cell_type": "markdown",
   "metadata": {
    "deletable": true,
    "editable": true
   },
   "source": [
    "### SVM Train"
   ]
  },
  {
   "cell_type": "code",
   "execution_count": 18,
   "metadata": {
    "collapsed": false
   },
   "outputs": [
    {
     "data": {
      "text/plain": [
       "array([[  4.,   1.,   1., ...,   0.,   0.,   0.],\n",
       "       [ 11.,   6.,   6., ...,   0.,   0.,   0.],\n",
       "       [  8.,   4.,   4., ...,   0.,   0.,   0.],\n",
       "       ..., \n",
       "       [  0.,   0.,   0., ...,   0.,   0.,   0.],\n",
       "       [  6.,   3.,   3., ...,   0.,   0.,   0.],\n",
       "       [  4.,   2.,   2., ...,   0.,   0.,   0.]])"
      ]
     },
     "execution_count": 18,
     "metadata": {},
     "output_type": "execute_result"
    }
   ],
   "source": [
    "features = liwc_class.build_features(tweets_train.tweet)\n",
    "features"
   ]
  },
  {
   "cell_type": "code",
   "execution_count": 14,
   "metadata": {
    "collapsed": false,
    "deletable": true,
    "editable": true
   },
   "outputs": [
    {
     "data": {
      "text/plain": [
       "array([-0.13835567, -0.09737484, -0.07454812,  0.22508702, -0.12807968])"
      ]
     },
     "execution_count": 14,
     "metadata": {},
     "output_type": "execute_result"
    }
   ],
   "source": [
    "labels = tweets_train.score\n",
    "#features = TfidfVectorizer().fit_transform(tweets_train.tweet)\n",
    "model = svm.SVR()\n",
    "X_train, X_test, y_train, y_test = train_test_split(features, labels, test_size=0.3, random_state=1)\n",
    "model.fit(X_train, y_train)\n",
    "scores = cross_val_score(model, X_test, y_test, cv=5, scoring=spearmanr_scorer)\n",
    "scores"
   ]
  },
  {
   "cell_type": "markdown",
   "metadata": {
    "deletable": true,
    "editable": true
   },
   "source": [
    "### Grid Search"
   ]
  },
  {
   "cell_type": "code",
   "execution_count": 15,
   "metadata": {
    "collapsed": false
   },
   "outputs": [
    {
     "data": {
      "text/plain": [
       "array([ 0.03925187, -0.01563636, -0.14625448, -0.08287429, -0.1569095 ])"
      ]
     },
     "execution_count": 15,
     "metadata": {},
     "output_type": "execute_result"
    }
   ],
   "source": [
    "X_train, X_test, y_train, y_test = train_test_split(features, labels, test_size=0.3, random_state=1)\n",
    "parameters = {'kernel':('linear','rbf')}\n",
    "\n",
    "svr = svm.SVR()\n",
    "clf = grid_search.GridSearchCV(svr, parameters)\n",
    "clf.fit(X_train, y_train)\n",
    "scores = cross_val_score(clf, X_test, y_test, cv=5, scoring=spearmanr_scorer)\n",
    "scores"
   ]
  },
  {
   "cell_type": "markdown",
   "metadata": {},
   "source": [
    "### Full Grid Search"
   ]
  },
  {
   "cell_type": "code",
   "execution_count": 16,
   "metadata": {
    "collapsed": false,
    "deletable": true,
    "editable": true
   },
   "outputs": [
    {
     "name": "stdout",
     "output_type": "stream",
     "text": [
      "Fitting 5 folds for each of 3 candidates, totalling 15 fits\n",
      "[CV] epsilon=0.0001 ..................................................\n",
      "[CV] epsilon=0.0001 ..................................................\n",
      "[CV] epsilon=0.0001 ..................................................\n",
      "[CV] epsilon=0.0001 ..................................................\n",
      "[CV] epsilon=0.0001 ..................................................\n",
      "[CV] ........................ epsilon=0.0001, score=-0.116101 -   0.0s\n",
      "[CV] epsilon=0.001 ...................................................\n",
      "[CV] ......................... epsilon=0.0001, score=0.022865 -   0.1s\n",
      "[CV] epsilon=0.001 ...................................................\n",
      "[CV] ........................ epsilon=0.0001, score=-0.085778 -   0.1s\n",
      "[CV] ......................... epsilon=0.0001, score=0.058363 -   0.1s\n",
      "[CV] ......................... epsilon=0.0001, score=0.067240 -   0.1s\n",
      "[CV] epsilon=0.001 ...................................................\n",
      "[CV] .......................... epsilon=0.001, score=0.007884 -   0.0s\n",
      "[CV] epsilon=0.001 ...................................................\n",
      "[CV] epsilon=0.001 ...................................................\n",
      "[CV] ......................... epsilon=0.001, score=-0.043283 -   0.1s\n",
      "[CV] epsilon=0.01 ....................................................\n",
      "[CV] .......................... epsilon=0.001, score=0.059883 -   0.1s\n",
      "[CV] .......................... epsilon=0.01, score=-0.056792 -   0.0s\n",
      "[CV] epsilon=0.01 ....................................................\n",
      "[CV] ......................... epsilon=0.001, score=-0.161971 -   0.1s\n",
      "[CV] .......................... epsilon=0.001, score=0.056449 -   0.1s\n",
      "[CV] .......................... epsilon=0.01, score=-0.003435 -   0.0s\n",
      "[CV] epsilon=0.01 ....................................................\n",
      "[CV] .......................... epsilon=0.01, score=-0.084851 -   0.0s\n",
      "[CV] epsilon=0.01 ....................................................\n",
      "[CV] ........................... epsilon=0.01, score=0.050232 -   0.0s\n",
      "[CV] epsilon=0.01 ....................................................\n",
      "[CV] .......................... epsilon=0.01, score=-0.124563 -   0.0s\n"
     ]
    },
    {
     "name": "stderr",
     "output_type": "stream",
     "text": [
      "[Parallel(n_jobs=5)]: Done   6 out of  15 | elapsed:    0.1s remaining:    0.2s\n",
      "[Parallel(n_jobs=5)]: Done  15 out of  15 | elapsed:    0.3s finished\n"
     ]
    },
    {
     "name": "stdout",
     "output_type": "stream",
     "text": [
      "GridSearchCV took 0.51 seconds for 3 candidates\n"
     ]
    },
    {
     "data": {
      "text/plain": [
       "[mean: -0.01056, std: 0.07579, params: {'epsilon': 0.0001},\n",
       " mean: -0.01621, std: 0.08201, params: {'epsilon': 0.001},\n",
       " mean: -0.04385, std: 0.06140, params: {'epsilon': 0.01}]"
      ]
     },
     "execution_count": 16,
     "metadata": {},
     "output_type": "execute_result"
    }
   ],
   "source": [
    "param_grid = [\n",
    "    {'epsilon':[10**i for i in range(-4,-1)]},\n",
    "]\n",
    "grid_search = GridSearchCV(LinearSVR(), param_grid=param_grid, scoring=spearmanr_scorer, cv=5, n_jobs=5, verbose=3)\n",
    "start = time()\n",
    "grid_search.fit(features, labels)\n",
    "print(\"GridSearchCV took %.2f seconds for %d candidates\" % (time() - start, len(grid_search.grid_scores_)))\n",
    "grid_search.grid_scores_"
   ]
  },
  {
   "cell_type": "markdown",
   "metadata": {
    "deletable": true,
    "editable": true
   },
   "source": [
    "### Predict Test Set"
   ]
  },
  {
   "cell_type": "code",
   "execution_count": 19,
   "metadata": {
    "collapsed": false,
    "deletable": true,
    "editable": true
   },
   "outputs": [],
   "source": [
    "test_features = liwc_class.build_features(tweets_test.tweet)\n",
    "tweets_test['scores'] = clf.predict(test_features)"
   ]
  },
  {
   "cell_type": "code",
   "execution_count": 20,
   "metadata": {
    "collapsed": false
   },
   "outputs": [],
   "source": [
    "tweets_test.to_csv('submission-svm/anger-pred.txt', sep='\\t', header=False)"
   ]
  }
 ],
 "metadata": {
  "kernelspec": {
   "display_name": "Python 3",
   "language": "python",
   "name": "python3"
  },
  "language_info": {
   "codemirror_mode": {
    "name": "ipython",
    "version": 3
   },
   "file_extension": ".py",
   "mimetype": "text/x-python",
   "name": "python",
   "nbconvert_exporter": "python",
   "pygments_lexer": "ipython3",
   "version": "3.5.2"
  }
 },
 "nbformat": 4,
 "nbformat_minor": 2
}
