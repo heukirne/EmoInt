{
 "cells": [
  {
   "cell_type": "code",
   "execution_count": 76,
   "metadata": {
    "collapsed": false,
    "deletable": true,
    "editable": true
   },
   "outputs": [],
   "source": [
    "import pandas as pd\n",
    "from sklearn import svm\n",
    "from sklearn.svm import SVR, LinearSVR\n",
    "from sklearn.linear_model import LinearRegression\n",
    "from sklearn import cross_validation\n",
    "from sklearn import grid_search\n",
    "from sklearn.grid_search import GridSearchCV\n",
    "from sklearn.feature_extraction.text import TfidfVectorizer\n",
    "from sklearn.svm import SVR\n",
    "from sklearn.cross_validation import train_test_split, cross_val_score\n",
    "from scipy.stats import spearmanr\n",
    "import numpy as np\n",
    "from time import time\n",
    "\n",
    "tweets = pd.read_csv('data/anger-ratings-0to1.train.txt', sep='\\t', names=['id','tweet','emotion','score'], index_col='id')"
   ]
  },
  {
   "cell_type": "code",
   "execution_count": 77,
   "metadata": {
    "collapsed": true
   },
   "outputs": [],
   "source": [
    "from sklearn.metrics import make_scorer\n",
    "def simple_spearman(x,y): return spearmanr(x,y)[0]\n",
    "spearmanr_scorer = make_scorer(simple_spearman)"
   ]
  },
  {
   "cell_type": "code",
   "execution_count": 78,
   "metadata": {
    "collapsed": false,
    "deletable": true,
    "editable": true
   },
   "outputs": [
    {
     "data": {
      "text/plain": [
       "array([ 0.24269246,  0.34029842,  0.18334481,  0.2366946 ,  0.40252897])"
      ]
     },
     "execution_count": 78,
     "metadata": {},
     "output_type": "execute_result"
    }
   ],
   "source": [
    "labels = tweets.score\n",
    "features = TfidfVectorizer().fit_transform(tweets.tweet)\n",
    "model = svm.SVR()\n",
    "X_train, X_test, y_train, y_test = cross_validation.train_test_split(features, labels, test_size=0.3, random_state=1)\n",
    "model.fit(X_train, y_train)\n",
    "scores = cross_validation.cross_val_score(model, X_test, y_test, cv=5, scoring=spearmanr_scorer)\n",
    "scores"
   ]
  },
  {
   "cell_type": "code",
   "execution_count": 79,
   "metadata": {
    "collapsed": false
   },
   "outputs": [
    {
     "data": {
      "text/plain": [
       "array([ 0.31115404,  0.17925061,  0.30383709,  0.21488841,  0.57304755])"
      ]
     },
     "execution_count": 79,
     "metadata": {},
     "output_type": "execute_result"
    }
   ],
   "source": [
    "X_train, X_test, y_train, y_test = cross_validation.train_test_split(features, labels, test_size=0.3, random_state=1)\n",
    "parameters = {'kernel':('linear','rbf')}\n",
    "\n",
    "svr = svm.SVR()\n",
    "clf = grid_search.GridSearchCV(svr, parameters)\n",
    "clf.fit(X_train, y_train)\n",
    "scores = cross_validation.cross_val_score(clf, X_test, y_test, cv=5, scoring=spearmanr_scorer)\n",
    "scores"
   ]
  },
  {
   "cell_type": "code",
   "execution_count": 80,
   "metadata": {
    "collapsed": false
   },
   "outputs": [
    {
     "name": "stdout",
     "output_type": "stream",
     "text": [
      "Fitting 5 folds for each of 3 candidates, totalling 15 fits\n",
      "[CV] epsilon=0.0001 ..................................................\n",
      "[CV] epsilon=0.0001 ..................................................\n",
      "[CV] epsilon=0.0001 ..................................................\n",
      "[CV] epsilon=0.0001 ..................................................\n",
      "[CV] epsilon=0.0001 ..................................................\n",
      "[CV] ......................... epsilon=0.0001, score=0.098570 -   0.1s\n",
      "[CV] epsilon=0.001 ...................................................\n",
      "[CV] ......................... epsilon=0.0001, score=0.226878 -   0.1s\n",
      "[CV] ......................... epsilon=0.0001, score=0.270985 -   0.1s\n",
      "[CV] ......................... epsilon=0.0001, score=0.160148 -   0.1s\n",
      "[CV] epsilon=0.001 ...................................................\n",
      "[CV] epsilon=0.001 ...................................................\n",
      "[CV] ......................... epsilon=0.0001, score=0.049899 -   0.1s\n",
      "[CV] epsilon=0.001 ...................................................\n",
      "[CV] epsilon=0.001 ...................................................\n",
      "[CV] .......................... epsilon=0.001, score=0.048033 -   0.1s\n",
      "[CV] epsilon=0.01 ....................................................\n",
      "[CV] .......................... epsilon=0.001, score=0.225984 -   0.0s\n",
      "[CV] .......................... epsilon=0.001, score=0.097188 -   0.0s\n",
      "[CV] epsilon=0.01 ....................................................\n",
      "[CV] .......................... epsilon=0.001, score=0.162275 -   0.0s\n",
      "[CV] ........................... epsilon=0.01, score=0.041849 -   0.0s\n",
      "[CV] epsilon=0.01 ....................................................\n",
      "[CV] .......................... epsilon=0.001, score=0.272422 -   0.0s\n",
      "[CV] ........................... epsilon=0.01, score=0.286842 -   0.0s\n",
      "[CV] ........................... epsilon=0.01, score=0.233910 -   0.0s\n",
      "[CV] epsilon=0.01 ....................................................\n",
      "[CV] ........................... epsilon=0.01, score=0.067864 -   0.0s\n",
      "[CV] epsilon=0.01 ....................................................\n",
      "[CV] ........................... epsilon=0.01, score=0.157560 -   0.0s\n"
     ]
    },
    {
     "name": "stderr",
     "output_type": "stream",
     "text": [
      "[Parallel(n_jobs=5)]: Done   6 out of  15 | elapsed:    0.1s remaining:    0.2s\n",
      "[Parallel(n_jobs=5)]: Done  15 out of  15 | elapsed:    0.3s finished\n"
     ]
    },
    {
     "name": "stdout",
     "output_type": "stream",
     "text": [
      "GridSearchCV took 0.44 seconds for 3 candidates\n"
     ]
    },
    {
     "data": {
      "text/plain": [
       "[mean: 0.16124, std: 0.08084, params: {'epsilon': 0.0001},\n",
       " mean: 0.16112, std: 0.08182, params: {'epsilon': 0.001},\n",
       " mean: 0.15756, std: 0.09378, params: {'epsilon': 0.01}]"
      ]
     },
     "execution_count": 80,
     "metadata": {},
     "output_type": "execute_result"
    }
   ],
   "source": [
    "param_grid = [\n",
    "    {'epsilon':[10**i for i in range(-4,-1)]},\n",
    "]\n",
    "grid_search = GridSearchCV(LinearSVR(), param_grid=param_grid, scoring=spearmanr_scorer, cv=5, n_jobs=5, verbose=3)\n",
    "start = time()\n",
    "grid_search.fit(features, labels)\n",
    "print(\"GridSearchCV took %.2f seconds for %d candidates\" % (time() - start, len(grid_search.grid_scores_)))\n",
    "grid_search.grid_scores_"
   ]
  },
  {
   "cell_type": "code",
   "execution_count": null,
   "metadata": {
    "collapsed": true
   },
   "outputs": [],
   "source": []
  }
 ],
 "metadata": {
  "kernelspec": {
   "display_name": "Python 3",
   "language": "python",
   "name": "python3"
  },
  "language_info": {
   "codemirror_mode": {
    "name": "ipython",
    "version": 3
   },
   "file_extension": ".py",
   "mimetype": "text/x-python",
   "name": "python",
   "nbconvert_exporter": "python",
   "pygments_lexer": "ipython3",
   "version": "3.5.2"
  }
 },
 "nbformat": 4,
 "nbformat_minor": 2
}
